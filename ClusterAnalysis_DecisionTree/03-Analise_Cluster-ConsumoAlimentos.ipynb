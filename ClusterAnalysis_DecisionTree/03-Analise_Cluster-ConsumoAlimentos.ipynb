{
 "cells": [
  {
   "cell_type": "code",
   "execution_count": null,
   "metadata": {},
   "outputs": [],
   "source": [
    "import numpy as np\n",
    "import pandas as pd\n",
    "import seaborn as sns\n",
    "import matplotlib.pyplot as plt\n",
    "%matplotlib inline"
   ]
  },
  {
   "cell_type": "markdown",
   "metadata": {},
   "source": [
    "## Leitura dos dados\n"
   ]
  },
  {
   "cell_type": "code",
   "execution_count": 2,
   "metadata": {
    "scrolled": true
   },
   "outputs": [
    {
     "ename": "NameError",
     "evalue": "name 'pd' is not defined",
     "output_type": "error",
     "traceback": [
      "\u001b[0;31m---------------------------------------------------------------------------\u001b[0m",
      "\u001b[0;31mNameError\u001b[0m                                 Traceback (most recent call last)",
      "\u001b[0;32m<ipython-input-2-cbe58ab82f56>\u001b[0m in \u001b[0;36m<module>\u001b[0;34m\u001b[0m\n\u001b[1;32m      1\u001b[0m \u001b[0;31m# Importando a base de dados\u001b[0m\u001b[0;34m\u001b[0m\u001b[0;34m\u001b[0m\u001b[0;34m\u001b[0m\u001b[0m\n\u001b[1;32m      2\u001b[0m \u001b[0;31m# Uma arquivo texto ('.txt') pode ser lido utilizando comando do read_txt dentro do Pandas\u001b[0m\u001b[0;34m\u001b[0m\u001b[0;34m\u001b[0m\u001b[0;34m\u001b[0m\u001b[0m\n\u001b[0;32m----> 3\u001b[0;31m \u001b[0mconsumo\u001b[0m \u001b[0;34m=\u001b[0m \u001b[0mpd\u001b[0m\u001b[0;34m.\u001b[0m\u001b[0mread_table\u001b[0m\u001b[0;34m(\u001b[0m\u001b[0;34m\"/home/wilber/Documentos/wilber@outlook.com/Estudos/FIA/Estatística Aplicada/Aula 22 - Python/Aula 2/Consumo_Alimentos.txt\"\u001b[0m\u001b[0;34m,\u001b[0m \u001b[0msep\u001b[0m\u001b[0;34m=\u001b[0m\u001b[0;34m'\\t'\u001b[0m\u001b[0;34m,\u001b[0m \u001b[0mdecimal\u001b[0m\u001b[0;34m=\u001b[0m\u001b[0;34m\".\"\u001b[0m\u001b[0;34m)\u001b[0m\u001b[0;34m\u001b[0m\u001b[0;34m\u001b[0m\u001b[0m\n\u001b[0m\u001b[1;32m      4\u001b[0m \u001b[0mconsumo\u001b[0m\u001b[0;34m.\u001b[0m\u001b[0mhead\u001b[0m\u001b[0;34m(\u001b[0m\u001b[0;34m)\u001b[0m\u001b[0;34m\u001b[0m\u001b[0;34m\u001b[0m\u001b[0m\n",
      "\u001b[0;31mNameError\u001b[0m: name 'pd' is not defined"
     ]
    }
   ],
   "source": [
    "# Importando a base de dados\n",
    "# Uma arquivo texto ('.txt') pode ser lido utilizando comando do read_txt dentro do Pandas\n",
    "consumo = pd.read_table(\"/home/wilber/Documentos/wilber@outlook.com/Estudos/FIA/Estatística Aplicada/Aula 22 - Python/Aula 2/Consumo_Alimentos.txt\", sep='\\t', decimal=\".\")\n",
    "consumo.head()"
   ]
  },
  {
   "cell_type": "markdown",
   "metadata": {},
   "source": [
    "## Análise Exploratória"
   ]
  },
  {
   "cell_type": "code",
   "execution_count": null,
   "metadata": {},
   "outputs": [],
   "source": [
    "consumo.dtypes"
   ]
  },
  {
   "cell_type": "code",
   "execution_count": null,
   "metadata": {},
   "outputs": [],
   "source": [
    "consumo.shape"
   ]
  },
  {
   "cell_type": "code",
   "execution_count": null,
   "metadata": {},
   "outputs": [],
   "source": [
    "consumo.describe().transpose()"
   ]
  },
  {
   "cell_type": "code",
   "execution_count": null,
   "metadata": {},
   "outputs": [],
   "source": [
    "# Quartil: para variável carne vermelha\n",
    "Q1 = np.quantile(consumo['carne_vermelha'], 0.25)\n",
    "Q3 = np.quantile(consumo['carne_vermelha'], 0.75)\n",
    "# Intervalo Interquartil: para variável carne vermelha\n",
    "intervalo_IQ = Q3 - Q1\n",
    "\n",
    "[round(Q1,2), round(Q3,2), round(intervalo_IQ,2)]"
   ]
  },
  {
   "cell_type": "code",
   "execution_count": null,
   "metadata": {},
   "outputs": [],
   "source": [
    "#Coeficiente de Variação: para variável carne vermelha\n",
    "cv_carne_vermelha = consumo['carne_vermelha'].std()/consumo['carne_vermelha'].mean()\n",
    "round(cv_carne_vermelha,2)"
   ]
  },
  {
   "cell_type": "markdown",
   "metadata": {},
   "source": [
    "## BoxPlot univariado"
   ]
  },
  {
   "cell_type": "code",
   "execution_count": null,
   "metadata": {},
   "outputs": [],
   "source": [
    "# Empilha as variáveis uma embaixo da outro, construindo uma tabela com 2 colunas: variávele valor\n",
    "tabela_boxplot = pd.melt(consumo.drop(['Pais'], axis=1))\n",
    "tabela_boxplot"
   ]
  },
  {
   "cell_type": "code",
   "execution_count": null,
   "metadata": {},
   "outputs": [],
   "source": [
    "# Utiliza da tabela_boxplot separando por variável, com 3 colunas \n",
    "aux_boxplot = sns.FacetGrid(tabela_boxplot, col=\"variable\", col_wrap=3)\n",
    "# Constrói o boxplot\n",
    "aux_boxplot.map_dataframe(sns.boxplot)"
   ]
  },
  {
   "cell_type": "markdown",
   "metadata": {},
   "source": [
    "## Análise de Agrupamento: Método Hierárquico"
   ]
  },
  {
   "cell_type": "code",
   "execution_count": null,
   "metadata": {},
   "outputs": [],
   "source": [
    "# Definindo o índice da base de dados\n",
    "consumo = consumo.set_index('Pais')"
   ]
  },
  {
   "cell_type": "code",
   "execution_count": null,
   "metadata": {},
   "outputs": [],
   "source": [
    "# Importa as funções dendrograma e ligação (linkage) do Spcipy\n",
    "from scipy.cluster.hierarchy import dendrogram, linkage\n",
    "\n",
    "labelList = consumo.index"
   ]
  },
  {
   "cell_type": "code",
   "execution_count": null,
   "metadata": {},
   "outputs": [],
   "source": [
    "# Método Single\n",
    "metodo_single = linkage(consumo, 'single')\n",
    "plt.figure(figsize=(15, 5))\n",
    "dendrogram(metodo_single,\n",
    "           labels=labelList)\n",
    "plt.show()"
   ]
  },
  {
   "cell_type": "markdown",
   "metadata": {},
   "source": [
    "### Exercício\n",
    "De acordo com a célula anterior, construa o dendrograma para o método Complete"
   ]
  },
  {
   "cell_type": "code",
   "execution_count": null,
   "metadata": {},
   "outputs": [],
   "source": [
    "# Método Complete"
   ]
  },
  {
   "cell_type": "markdown",
   "metadata": {},
   "source": [
    "## Descritiva dos grupos \n",
    "\n",
    "Analisar as características de cada grupo"
   ]
  },
  {
   "cell_type": "code",
   "execution_count": null,
   "metadata": {},
   "outputs": [],
   "source": [
    "from scipy.cluster.hierarchy import fcluster\n",
    "# Na altura do corte, é selecionado a quantidade de grupos\n",
    "corte = 27\n",
    "cluster = fcluster(metodo_complete, corte, criterion='distance')"
   ]
  },
  {
   "cell_type": "code",
   "execution_count": null,
   "metadata": {},
   "outputs": [],
   "source": [
    "# Criando uma nova variável na base de dados consumo: cluster\n",
    "consumo['cluster'] = cluster"
   ]
  },
  {
   "cell_type": "code",
   "execution_count": null,
   "metadata": {},
   "outputs": [],
   "source": [
    "# Empilhando a base de dados em 3 colunas: cluster, variável e indicador de consumo alimentar\n",
    "tabela_cluster = pd.melt(consumo, id_vars='cluster')\n",
    "tabela_cluster"
   ]
  },
  {
   "cell_type": "code",
   "execution_count": null,
   "metadata": {},
   "outputs": [],
   "source": [
    "# Construindo Boxplots por cluster para cada tipo de variável\n",
    "g = sns.FacetGrid(tabela_cluster, col=\"variable\", sharey=False, col_wrap=3)\n",
    "g.map_dataframe(sns.boxplot, x=\"cluster\", y=\"value\")"
   ]
  },
  {
   "cell_type": "markdown",
   "metadata": {},
   "source": [
    "## Padronização das variáveis pelo Z-Score\n",
    "\n",
    "Refazendo os itens anteriores com as variáveis padronizadas"
   ]
  },
  {
   "cell_type": "code",
   "execution_count": null,
   "metadata": {},
   "outputs": [],
   "source": [
    "#Leitura da base de dados\n",
    "consumo = pd.read_table(\"C:/_Ayu/0-Fia/_2020/TURMAS/EA_EAD_ago20/Analise_Cluster/Consumo_Alimentos.txt\", sep='\\t', decimal=\".\")\n",
    "\n",
    "# Considerar coluna País como índice\n",
    "consumo = consumo.set_index('Pais')"
   ]
  },
  {
   "cell_type": "code",
   "execution_count": null,
   "metadata": {},
   "outputs": [],
   "source": [
    "# Utilizando a função prepocessing do Scikit-learn\n",
    "from sklearn import preprocessing"
   ]
  },
  {
   "cell_type": "code",
   "execution_count": null,
   "metadata": {},
   "outputs": [],
   "source": [
    "# Utilizando a função prepocessing do Scikit-learn\n",
    "from sklearn import preprocessing\n",
    "# Função \"preprocessing.StandardScaler().fit(consumo)\" transforma as variáveis originais de \"consumo\" no Z-score\n",
    "# Empilha as variáveis uma embaixo da outra, construindo uma tabela com 2 colunas: variávele valor\n",
    "consumo_z = preprocessing.StandardScaler().fit(consumo).transform(consumo)\n",
    "# Transforma em Data Frame\n",
    "consumo_z_df = pd.DataFrame(consumo_z, index=consumo.index, columns=consumo.columns)\n",
    "consumo_z_df.head()"
   ]
  },
  {
   "cell_type": "code",
   "execution_count": null,
   "metadata": {},
   "outputs": [],
   "source": [
    "# Mostra as medidas resumo: resultado da tranformação é ~ média zero e ~ variância um\n",
    "consumo_z_df.describe().transpose()"
   ]
  },
  {
   "cell_type": "markdown",
   "metadata": {},
   "source": [
    "### Exercício"
   ]
  },
  {
   "cell_type": "code",
   "execution_count": null,
   "metadata": {
    "scrolled": false
   },
   "outputs": [],
   "source": [
    "# Método Single\n"
   ]
  },
  {
   "cell_type": "code",
   "execution_count": null,
   "metadata": {},
   "outputs": [],
   "source": [
    "# Método Complete\n"
   ]
  },
  {
   "cell_type": "code",
   "execution_count": null,
   "metadata": {},
   "outputs": [],
   "source": [
    "# from scipy.cluster.hierarchy import fcluster\n"
   ]
  },
  {
   "cell_type": "code",
   "execution_count": null,
   "metadata": {},
   "outputs": [],
   "source": [
    "# Salvando os grupos na base de dados: cluster_z (na base original)\n"
   ]
  },
  {
   "cell_type": "code",
   "execution_count": null,
   "metadata": {},
   "outputs": [],
   "source": [
    "# Empilhando a base de dados em 3 colunas: cluster, variável original e indicador de consumo alimentar\n"
   ]
  },
  {
   "cell_type": "code",
   "execution_count": null,
   "metadata": {
    "scrolled": true
   },
   "outputs": [],
   "source": [
    "# Construindo Boxplots por cluster para cada tipo de variável\n"
   ]
  },
  {
   "cell_type": "markdown",
   "metadata": {},
   "source": [
    "## Método k-médias"
   ]
  },
  {
   "cell_type": "code",
   "execution_count": null,
   "metadata": {},
   "outputs": [],
   "source": [
    "#Leitura da base de dados\n",
    "consumo = pd.read_table(\"C:/_Ayu/0-Fia/_2020/TURMAS/EA_EAD_ago20/Analise_Cluster/Consumo_Alimentos.txt\", sep='\\t', decimal=\".\")"
   ]
  },
  {
   "cell_type": "code",
   "execution_count": null,
   "metadata": {},
   "outputs": [],
   "source": [
    "# Considerar coluna País como índice\n",
    "consumo = consumo.set_index('Pais')"
   ]
  },
  {
   "cell_type": "code",
   "execution_count": null,
   "metadata": {},
   "outputs": [],
   "source": [
    "# Utilizando a função prepocessing do Scikit-learn\n",
    "from sklearn import preprocessing\n",
    "# Função \"preprocessing.StandardScaler().fit(consumo)\" transforma as variáveis originais de \"consumo\" no Z-score\n",
    "# Empilha as variáveis uma embaixo da outro, construindo uma tabela com 2 colunas: variávele valor\n",
    "consumo_z = preprocessing.StandardScaler().fit(consumo).transform(consumo)\n",
    "# Transforma em Data Frame\n",
    "consumo_z_df = pd.DataFrame(consumo_z, index=consumo.index, columns=consumo.columns)"
   ]
  },
  {
   "cell_type": "code",
   "execution_count": null,
   "metadata": {},
   "outputs": [],
   "source": [
    "#round(consumo_z_df.describe().transpose(),2)"
   ]
  },
  {
   "cell_type": "code",
   "execution_count": null,
   "metadata": {},
   "outputs": [],
   "source": [
    "# Importa do Scikit-learn o K-médias\n",
    "from sklearn.cluster import KMeans"
   ]
  },
  {
   "cell_type": "code",
   "execution_count": null,
   "metadata": {},
   "outputs": [],
   "source": [
    "# Definição do número de centróides = k\n",
    "kmeans = KMeans(n_clusters=4,random_state=321)"
   ]
  },
  {
   "cell_type": "code",
   "execution_count": null,
   "metadata": {},
   "outputs": [],
   "source": [
    "# Roda o método k-médias com a base padronizadas\n",
    "kmeans.fit(consumo_z_df)"
   ]
  },
  {
   "cell_type": "code",
   "execution_count": null,
   "metadata": {},
   "outputs": [],
   "source": [
    "# Mostra as k centróides, se k=4, teremos as posições de 0-3 para checar as centroides\n",
    "kmeans.cluster_centers_[3]\n",
    "#kmeans.cluster_centers_[1]"
   ]
  },
  {
   "cell_type": "code",
   "execution_count": null,
   "metadata": {},
   "outputs": [],
   "source": [
    "# Mostra para cada país (índice da base), a qual cluster foi alocado\n",
    "kmeans.labels_"
   ]
  },
  {
   "cell_type": "code",
   "execution_count": null,
   "metadata": {},
   "outputs": [],
   "source": [
    "# Atribui na base de dados os clustes\n",
    "consumo['clusterk_z'] = kmeans.labels_\n",
    "consumo['clusterk_z'].value_counts()"
   ]
  },
  {
   "cell_type": "code",
   "execution_count": null,
   "metadata": {},
   "outputs": [],
   "source": [
    "# Empilha as variáveis uma embaixo da outro, construindo uma tabela com 2 colunas: variávele valor\n",
    "tabela_clusterk_z = pd.melt(consumo, id_vars='clusterk_z')\n",
    "tabela_clusterk_z"
   ]
  },
  {
   "cell_type": "code",
   "execution_count": null,
   "metadata": {},
   "outputs": [],
   "source": [
    "g = sns.FacetGrid(tabela_clusterk_z, col=\"variable\", sharey=False, col_wrap=3)\n",
    "g.map_dataframe(sns.boxplot, x=\"clusterk_z\", y=\"value\")"
   ]
  },
  {
   "cell_type": "markdown",
   "metadata": {},
   "source": [
    "## Realize novamente a Análise Cluster, considerando agora k=3"
   ]
  },
  {
   "cell_type": "code",
   "execution_count": null,
   "metadata": {},
   "outputs": [],
   "source": [
    "# Definição do número de centróides = k\n",
    "kmeans = KMeans(n_clusters=3)"
   ]
  },
  {
   "cell_type": "code",
   "execution_count": null,
   "metadata": {},
   "outputs": [],
   "source": []
  },
  {
   "cell_type": "code",
   "execution_count": null,
   "metadata": {},
   "outputs": [],
   "source": []
  },
  {
   "cell_type": "code",
   "execution_count": null,
   "metadata": {},
   "outputs": [],
   "source": []
  },
  {
   "cell_type": "code",
   "execution_count": null,
   "metadata": {},
   "outputs": [],
   "source": []
  },
  {
   "cell_type": "code",
   "execution_count": null,
   "metadata": {},
   "outputs": [],
   "source": []
  },
  {
   "cell_type": "code",
   "execution_count": null,
   "metadata": {},
   "outputs": [],
   "source": []
  }
 ],
 "metadata": {
  "kernelspec": {
   "display_name": "Python 3",
   "language": "python",
   "name": "python3"
  },
  "language_info": {
   "codemirror_mode": {
    "name": "ipython",
    "version": 3
   },
   "file_extension": ".py",
   "mimetype": "text/x-python",
   "name": "python",
   "nbconvert_exporter": "python",
   "pygments_lexer": "ipython3",
   "version": "3.8.5"
  }
 },
 "nbformat": 4,
 "nbformat_minor": 4
}
