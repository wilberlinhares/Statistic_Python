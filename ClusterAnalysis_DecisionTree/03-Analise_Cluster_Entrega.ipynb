{
 "cells": [
  {
   "cell_type": "code",
   "execution_count": 1,
   "metadata": {},
   "outputs": [],
   "source": [
    "import numpy as np\n",
    "import pandas as pd\n",
    "import seaborn as sns\n",
    "import matplotlib.pyplot as plt\n",
    "%matplotlib inline"
   ]
  },
  {
   "cell_type": "markdown",
   "metadata": {},
   "source": [
    "## Método k-médias"
   ]
  },
  {
   "cell_type": "markdown",
   "metadata": {},
   "source": [
    "## Leitura dos dados\n"
   ]
  },
  {
   "cell_type": "code",
   "execution_count": 3,
   "metadata": {},
   "outputs": [],
   "source": [
    "#Leitura da base de dados\n",
    "entrega = pd.read_table(\"/home/wilber/Documentos/wilber@outlook.com/Estudos/FIA/Estatística Aplicada/Aula 22 - Python/Aula 2/Servico_Entrega.txt\", sep='\\t', decimal=\".\")"
   ]
  },
  {
   "cell_type": "code",
   "execution_count": 4,
   "metadata": {},
   "outputs": [
    {
     "data": {
      "text/html": [
       "<div>\n",
       "<style scoped>\n",
       "    .dataframe tbody tr th:only-of-type {\n",
       "        vertical-align: middle;\n",
       "    }\n",
       "\n",
       "    .dataframe tbody tr th {\n",
       "        vertical-align: top;\n",
       "    }\n",
       "\n",
       "    .dataframe thead th {\n",
       "        text-align: right;\n",
       "    }\n",
       "</style>\n",
       "<table border=\"1\" class=\"dataframe\">\n",
       "  <thead>\n",
       "    <tr style=\"text-align: right;\">\n",
       "      <th></th>\n",
       "      <th>ID_Cliente</th>\n",
       "      <th>N_pedidos</th>\n",
       "      <th>Valor</th>\n",
       "      <th>Dist_m_restaurante</th>\n",
       "      <th>Tempo_m_entrega</th>\n",
       "    </tr>\n",
       "  </thead>\n",
       "  <tbody>\n",
       "    <tr>\n",
       "      <th>0</th>\n",
       "      <td>28</td>\n",
       "      <td>1</td>\n",
       "      <td>558</td>\n",
       "      <td>0.8</td>\n",
       "      <td>33</td>\n",
       "    </tr>\n",
       "    <tr>\n",
       "      <th>1</th>\n",
       "      <td>122</td>\n",
       "      <td>2</td>\n",
       "      <td>2685</td>\n",
       "      <td>2.6</td>\n",
       "      <td>24</td>\n",
       "    </tr>\n",
       "    <tr>\n",
       "      <th>2</th>\n",
       "      <td>152</td>\n",
       "      <td>12</td>\n",
       "      <td>2608</td>\n",
       "      <td>2.6</td>\n",
       "      <td>31</td>\n",
       "    </tr>\n",
       "    <tr>\n",
       "      <th>3</th>\n",
       "      <td>173</td>\n",
       "      <td>9</td>\n",
       "      <td>1634</td>\n",
       "      <td>1.2</td>\n",
       "      <td>45</td>\n",
       "    </tr>\n",
       "    <tr>\n",
       "      <th>4</th>\n",
       "      <td>204</td>\n",
       "      <td>2</td>\n",
       "      <td>562</td>\n",
       "      <td>2.0</td>\n",
       "      <td>53</td>\n",
       "    </tr>\n",
       "  </tbody>\n",
       "</table>\n",
       "</div>"
      ],
      "text/plain": [
       "   ID_Cliente  N_pedidos  Valor  Dist_m_restaurante  Tempo_m_entrega\n",
       "0          28          1    558                 0.8               33\n",
       "1         122          2   2685                 2.6               24\n",
       "2         152         12   2608                 2.6               31\n",
       "3         173          9   1634                 1.2               45\n",
       "4         204          2    562                 2.0               53"
      ]
     },
     "execution_count": 4,
     "metadata": {},
     "output_type": "execute_result"
    }
   ],
   "source": [
    "entrega.head()"
   ]
  },
  {
   "cell_type": "code",
   "execution_count": 5,
   "metadata": {},
   "outputs": [],
   "source": [
    "# Considerar coluna ID_Cliente como índice\n",
    "entrega = entrega.set_index('ID_Cliente')"
   ]
  },
  {
   "cell_type": "code",
   "execution_count": 6,
   "metadata": {},
   "outputs": [
    {
     "data": {
      "text/html": [
       "<div>\n",
       "<style scoped>\n",
       "    .dataframe tbody tr th:only-of-type {\n",
       "        vertical-align: middle;\n",
       "    }\n",
       "\n",
       "    .dataframe tbody tr th {\n",
       "        vertical-align: top;\n",
       "    }\n",
       "\n",
       "    .dataframe thead th {\n",
       "        text-align: right;\n",
       "    }\n",
       "</style>\n",
       "<table border=\"1\" class=\"dataframe\">\n",
       "  <thead>\n",
       "    <tr style=\"text-align: right;\">\n",
       "      <th></th>\n",
       "      <th>count</th>\n",
       "      <th>mean</th>\n",
       "      <th>std</th>\n",
       "      <th>min</th>\n",
       "      <th>25%</th>\n",
       "      <th>50%</th>\n",
       "      <th>75%</th>\n",
       "      <th>max</th>\n",
       "    </tr>\n",
       "  </thead>\n",
       "  <tbody>\n",
       "    <tr>\n",
       "      <th>N_pedidos</th>\n",
       "      <td>10000.0</td>\n",
       "      <td>7.00620</td>\n",
       "      <td>13.118619</td>\n",
       "      <td>1.0</td>\n",
       "      <td>1.0</td>\n",
       "      <td>2.0</td>\n",
       "      <td>7.000</td>\n",
       "      <td>212.0</td>\n",
       "    </tr>\n",
       "    <tr>\n",
       "      <th>Valor</th>\n",
       "      <td>10000.0</td>\n",
       "      <td>2236.80820</td>\n",
       "      <td>4825.289514</td>\n",
       "      <td>10.0</td>\n",
       "      <td>279.0</td>\n",
       "      <td>688.0</td>\n",
       "      <td>2040.000</td>\n",
       "      <td>70000.0</td>\n",
       "    </tr>\n",
       "    <tr>\n",
       "      <th>Dist_m_restaurante</th>\n",
       "      <td>10000.0</td>\n",
       "      <td>2.35721</td>\n",
       "      <td>0.972274</td>\n",
       "      <td>0.0</td>\n",
       "      <td>1.7</td>\n",
       "      <td>2.4</td>\n",
       "      <td>3.025</td>\n",
       "      <td>5.9</td>\n",
       "    </tr>\n",
       "    <tr>\n",
       "      <th>Tempo_m_entrega</th>\n",
       "      <td>10000.0</td>\n",
       "      <td>36.91430</td>\n",
       "      <td>13.175413</td>\n",
       "      <td>15.0</td>\n",
       "      <td>26.0</td>\n",
       "      <td>36.5</td>\n",
       "      <td>47.000</td>\n",
       "      <td>83.0</td>\n",
       "    </tr>\n",
       "  </tbody>\n",
       "</table>\n",
       "</div>"
      ],
      "text/plain": [
       "                      count        mean          std   min    25%    50%  \\\n",
       "N_pedidos           10000.0     7.00620    13.118619   1.0    1.0    2.0   \n",
       "Valor               10000.0  2236.80820  4825.289514  10.0  279.0  688.0   \n",
       "Dist_m_restaurante  10000.0     2.35721     0.972274   0.0    1.7    2.4   \n",
       "Tempo_m_entrega     10000.0    36.91430    13.175413  15.0   26.0   36.5   \n",
       "\n",
       "                         75%      max  \n",
       "N_pedidos              7.000    212.0  \n",
       "Valor               2040.000  70000.0  \n",
       "Dist_m_restaurante     3.025      5.9  \n",
       "Tempo_m_entrega       47.000     83.0  "
      ]
     },
     "execution_count": 6,
     "metadata": {},
     "output_type": "execute_result"
    }
   ],
   "source": [
    "entrega.describe().transpose()"
   ]
  },
  {
   "cell_type": "code",
   "execution_count": 24,
   "metadata": {},
   "outputs": [],
   "source": [
    "# Utilizando a função prepocessing do Scikit-learn\n",
    "from sklearn import preprocessing\n",
    "# Função \"preprocessing.StandardScaler().fit(consumo)\" transforma as variáveis originais de \"consumo\" no Z-score\n",
    "# Empilha as variáveis uma embaixo da outro, construindo uma tabela com 2 colunas: variávele valor\n",
    "entrega_z = preprocessing.StandardScaler().fit(entrega).transform(entrega)\n",
    "# Transforma em Data Frame\n",
    "entrega_z_df = pd.DataFrame(entrega_z, index=entrega.index, columns=entrega.columns)"
   ]
  },
  {
   "cell_type": "code",
   "execution_count": 26,
   "metadata": {},
   "outputs": [
    {
     "data": {
      "text/html": [
       "<div>\n",
       "<style scoped>\n",
       "    .dataframe tbody tr th:only-of-type {\n",
       "        vertical-align: middle;\n",
       "    }\n",
       "\n",
       "    .dataframe tbody tr th {\n",
       "        vertical-align: top;\n",
       "    }\n",
       "\n",
       "    .dataframe thead th {\n",
       "        text-align: right;\n",
       "    }\n",
       "</style>\n",
       "<table border=\"1\" class=\"dataframe\">\n",
       "  <thead>\n",
       "    <tr style=\"text-align: right;\">\n",
       "      <th></th>\n",
       "      <th>count</th>\n",
       "      <th>mean</th>\n",
       "      <th>std</th>\n",
       "      <th>min</th>\n",
       "      <th>25%</th>\n",
       "      <th>50%</th>\n",
       "      <th>75%</th>\n",
       "      <th>max</th>\n",
       "    </tr>\n",
       "  </thead>\n",
       "  <tbody>\n",
       "    <tr>\n",
       "      <th>N_pedidos</th>\n",
       "      <td>10000.0</td>\n",
       "      <td>0.0</td>\n",
       "      <td>1.0</td>\n",
       "      <td>-0.46</td>\n",
       "      <td>-0.46</td>\n",
       "      <td>-0.38</td>\n",
       "      <td>-0.00</td>\n",
       "      <td>15.63</td>\n",
       "    </tr>\n",
       "    <tr>\n",
       "      <th>Valor</th>\n",
       "      <td>10000.0</td>\n",
       "      <td>0.0</td>\n",
       "      <td>1.0</td>\n",
       "      <td>-0.46</td>\n",
       "      <td>-0.41</td>\n",
       "      <td>-0.32</td>\n",
       "      <td>-0.04</td>\n",
       "      <td>14.04</td>\n",
       "    </tr>\n",
       "    <tr>\n",
       "      <th>Dist_m_restaurante</th>\n",
       "      <td>10000.0</td>\n",
       "      <td>0.0</td>\n",
       "      <td>1.0</td>\n",
       "      <td>-2.42</td>\n",
       "      <td>-0.68</td>\n",
       "      <td>0.04</td>\n",
       "      <td>0.69</td>\n",
       "      <td>3.64</td>\n",
       "    </tr>\n",
       "    <tr>\n",
       "      <th>Tempo_m_entrega</th>\n",
       "      <td>10000.0</td>\n",
       "      <td>-0.0</td>\n",
       "      <td>1.0</td>\n",
       "      <td>-1.66</td>\n",
       "      <td>-0.83</td>\n",
       "      <td>-0.03</td>\n",
       "      <td>0.77</td>\n",
       "      <td>3.50</td>\n",
       "    </tr>\n",
       "  </tbody>\n",
       "</table>\n",
       "</div>"
      ],
      "text/plain": [
       "                      count  mean  std   min   25%   50%   75%    max\n",
       "N_pedidos           10000.0   0.0  1.0 -0.46 -0.46 -0.38 -0.00  15.63\n",
       "Valor               10000.0   0.0  1.0 -0.46 -0.41 -0.32 -0.04  14.04\n",
       "Dist_m_restaurante  10000.0   0.0  1.0 -2.42 -0.68  0.04  0.69   3.64\n",
       "Tempo_m_entrega     10000.0  -0.0  1.0 -1.66 -0.83 -0.03  0.77   3.50"
      ]
     },
     "execution_count": 26,
     "metadata": {},
     "output_type": "execute_result"
    }
   ],
   "source": [
    "round(entrega_z_df.describe().transpose(),2)"
   ]
  },
  {
   "cell_type": "code",
   "execution_count": 27,
   "metadata": {},
   "outputs": [],
   "source": [
    "# Importa do Scikit-learn o K-médias\n",
    "from sklearn.cluster import KMeans"
   ]
  },
  {
   "cell_type": "code",
   "execution_count": 19,
   "metadata": {},
   "outputs": [
    {
     "name": "stdout",
     "output_type": "stream",
     "text": [
      "Requirement already satisfied: yellowbrick in /home/wilber/anaconda3/lib/python3.8/site-packages (1.2.1)\n",
      "Requirement already satisfied: scipy<1.6,>=1.0.0 in /home/wilber/anaconda3/lib/python3.8/site-packages (from yellowbrick) (1.5.2)\n",
      "Requirement already satisfied: matplotlib!=3.0.0,>=2.0.2 in /home/wilber/anaconda3/lib/python3.8/site-packages (from yellowbrick) (3.3.2)\n",
      "Requirement already satisfied: scikit-learn<0.24,>=0.20 in /home/wilber/anaconda3/lib/python3.8/site-packages (from yellowbrick) (0.23.2)\n",
      "Requirement already satisfied: cycler>=0.10.0 in /home/wilber/anaconda3/lib/python3.8/site-packages (from yellowbrick) (0.10.0)\n",
      "Requirement already satisfied: numpy>=1.13.0 in /home/wilber/anaconda3/lib/python3.8/site-packages (from yellowbrick) (1.19.2)\n",
      "Requirement already satisfied: pyparsing!=2.0.4,!=2.1.2,!=2.1.6,>=2.0.3 in /home/wilber/anaconda3/lib/python3.8/site-packages (from matplotlib!=3.0.0,>=2.0.2->yellowbrick) (2.4.7)\n",
      "Requirement already satisfied: certifi>=2020.06.20 in /home/wilber/anaconda3/lib/python3.8/site-packages (from matplotlib!=3.0.0,>=2.0.2->yellowbrick) (2020.6.20)\n",
      "Requirement already satisfied: kiwisolver>=1.0.1 in /home/wilber/anaconda3/lib/python3.8/site-packages (from matplotlib!=3.0.0,>=2.0.2->yellowbrick) (1.3.0)\n",
      "Requirement already satisfied: pillow>=6.2.0 in /home/wilber/anaconda3/lib/python3.8/site-packages (from matplotlib!=3.0.0,>=2.0.2->yellowbrick) (8.0.1)\n",
      "Requirement already satisfied: python-dateutil>=2.1 in /home/wilber/anaconda3/lib/python3.8/site-packages (from matplotlib!=3.0.0,>=2.0.2->yellowbrick) (2.8.1)\n",
      "Requirement already satisfied: threadpoolctl>=2.0.0 in /home/wilber/anaconda3/lib/python3.8/site-packages (from scikit-learn<0.24,>=0.20->yellowbrick) (2.1.0)\n",
      "Requirement already satisfied: joblib>=0.11 in /home/wilber/anaconda3/lib/python3.8/site-packages (from scikit-learn<0.24,>=0.20->yellowbrick) (0.17.0)\n",
      "Requirement already satisfied: six in /home/wilber/anaconda3/lib/python3.8/site-packages (from cycler>=0.10.0->yellowbrick) (1.15.0)\n"
     ]
    }
   ],
   "source": [
    "#Instalação do yellowbrick\n",
    "!pip install yellowbrick"
   ]
  },
  {
   "cell_type": "code",
   "execution_count": 20,
   "metadata": {},
   "outputs": [],
   "source": [
    "#Para usar método Elbow. Depende do scikit e matplotlib.\n",
    "from yellowbrick.cluster.elbow import kelbow_visualizer"
   ]
  },
  {
   "cell_type": "code",
   "execution_count": 39,
   "metadata": {},
   "outputs": [
    {
     "data": {
      "image/png": "[encoded data removed]",
      "text/plain": [
       "<Figure size 576x396 with 2 Axes>"
      ]
     },
     "metadata": {},
     "output_type": "display_data"
    },
    {
     "name": "stderr",
     "output_type": "stream",
     "text": [
      "/home/wilber/anaconda3/lib/python3.8/site-packages/sklearn/base.py:209: FutureWarning: From version 0.24, get_params will raise an AttributeError if a parameter cannot be retrieved as an instance attribute. Previously it would return None.\n",
      "  warnings.warn('From version 0.24, get_params will raise an '\n"
     ]
    },
    {
     "data": {
      "text/plain": [
       "KElbowVisualizer(ax=<AxesSubplot:title={'center':'Distortion Score Elbow for KMeans Clustering'}, xlabel='k', ylabel='distortion score'>,\n",
       "                 k=None, model=None)"
      ]
     },
     "execution_count": 39,
     "metadata": {},
     "output_type": "execute_result"
    }
   ],
   "source": [
    "kelbow_visualizer(KMeans(random_state=321), entrega_z_df, k=(2,20))"
   ]
  },
  {
   "cell_type": "code",
   "execution_count": 30,
   "metadata": {},
   "outputs": [],
   "source": [
    "# Definição do número de centróides = k\n",
    "kmeans = KMeans(n_clusters=6,random_state=321)"
   ]
  },
  {
   "cell_type": "code",
   "execution_count": 37,
   "metadata": {},
   "outputs": [
    {
     "data": {
      "text/plain": [
       "KMeans(n_clusters=6, random_state=321)"
      ]
     },
     "execution_count": 37,
     "metadata": {},
     "output_type": "execute_result"
    }
   ],
   "source": [
    "# Roda o método k-médias com a base padronizadas\n",
    "kmeans.fit(entrega_z_df)"
   ]
  },
  {
   "cell_type": "code",
   "execution_count": 33,
   "metadata": {},
   "outputs": [
    {
     "data": {
      "text/plain": [
       "array([-0.21230476, -0.20523727, -0.85261725,  0.6745614 ])"
      ]
     },
     "execution_count": 33,
     "metadata": {},
     "output_type": "execute_result"
    }
   ],
   "source": [
    "# Mostra as k centróides, se k=6, teremos as posições de 0-5 para checar as centroides\n",
    "kmeans.cluster_centers_[0]"
   ]
  },
  {
   "cell_type": "code",
   "execution_count": 34,
   "metadata": {},
   "outputs": [
    {
     "data": {
      "text/plain": [
       "array([-0.22162958, -0.21059312,  0.7901539 ,  1.09158854])"
      ]
     },
     "execution_count": 34,
     "metadata": {},
     "output_type": "execute_result"
    }
   ],
   "source": [
    "kmeans.cluster_centers_[2]"
   ]
  },
  {
   "cell_type": "code",
   "execution_count": 40,
   "metadata": {},
   "outputs": [
    {
     "data": {
      "text/plain": [
       "array([5, 3, 3, ..., 0, 3, 4], dtype=int32)"
      ]
     },
     "execution_count": 40,
     "metadata": {},
     "output_type": "execute_result"
    }
   ],
   "source": [
    "# Mostra para cada observação (índice da base), a qual cluster foi alocado\n",
    "kmeans.labels_"
   ]
  },
  {
   "cell_type": "code",
   "execution_count": 41,
   "metadata": {},
   "outputs": [
    {
     "data": {
      "text/plain": [
       "3    2555\n",
       "5    2262\n",
       "2    2211\n",
       "0    2165\n",
       "1     711\n",
       "4      96\n",
       "Name: clusterk_z, dtype: int64"
      ]
     },
     "execution_count": 41,
     "metadata": {},
     "output_type": "execute_result"
    }
   ],
   "source": [
    "# Atribui na base de dados os clusteRs\n",
    "entrega['clusterk_z']=kmeans.labels_\n",
    "entrega['clusterk_z'].value_counts()"
   ]
  },
  {
   "cell_type": "code",
   "execution_count": null,
   "metadata": {},
   "outputs": [],
   "source": [
    "# Empilha as variáveis uma embaixo da outro, construindo uma tabela com 2 colunas: variável e valor\n",
    "tabela_clusterk_z=pd.melt(entrega,id_vars='clusterk_z')\n"
   ]
  },
  {
   "cell_type": "code",
   "execution_count": 42,
   "metadata": {},
   "outputs": [
    {
     "ename": "NameError",
     "evalue": "name 'tabela_clusterk_z' is not defined",
     "output_type": "error",
     "traceback": [
      "\u001b[0;31m---------------------------------------------------------------------------\u001b[0m",
      "\u001b[0;31mNameError\u001b[0m                                 Traceback (most recent call last)",
      "\u001b[0;32m<ipython-input-42-a09657a00a93>\u001b[0m in \u001b[0;36m<module>\u001b[0;34m\u001b[0m\n\u001b[0;32m----> 1\u001b[0;31m \u001b[0mg\u001b[0m \u001b[0;34m=\u001b[0m \u001b[0msns\u001b[0m\u001b[0;34m.\u001b[0m\u001b[0mFacetGrid\u001b[0m\u001b[0;34m(\u001b[0m\u001b[0mtabela_clusterk_z\u001b[0m\u001b[0;34m,\u001b[0m \u001b[0mcol\u001b[0m\u001b[0;34m=\u001b[0m\u001b[0;34m\"variable\"\u001b[0m\u001b[0;34m,\u001b[0m \u001b[0msharey\u001b[0m\u001b[0;34m=\u001b[0m\u001b[0;32mFalse\u001b[0m\u001b[0;34m,\u001b[0m \u001b[0mcol_wrap\u001b[0m\u001b[0;34m=\u001b[0m\u001b[0;36m3\u001b[0m\u001b[0;34m)\u001b[0m\u001b[0;34m\u001b[0m\u001b[0;34m\u001b[0m\u001b[0m\n\u001b[0m\u001b[1;32m      2\u001b[0m \u001b[0mg\u001b[0m\u001b[0;34m.\u001b[0m\u001b[0mmap_dataframe\u001b[0m\u001b[0;34m(\u001b[0m\u001b[0msns\u001b[0m\u001b[0;34m.\u001b[0m\u001b[0mboxplot\u001b[0m\u001b[0;34m,\u001b[0m \u001b[0mx\u001b[0m\u001b[0;34m=\u001b[0m\u001b[0;34m\"clusterk_z\"\u001b[0m\u001b[0;34m,\u001b[0m \u001b[0my\u001b[0m\u001b[0;34m=\u001b[0m\u001b[0;34m\"value\"\u001b[0m\u001b[0;34m)\u001b[0m\u001b[0;34m\u001b[0m\u001b[0;34m\u001b[0m\u001b[0m\n",
      "\u001b[0;31mNameError\u001b[0m: name 'tabela_clusterk_z' is not defined"
     ]
    }
   ],
   "source": [
    "g = sns.FacetGrid(tabela_clusterk_z, col=\"variable\", sharey=False, col_wrap=3) \n",
    "g.map_dataframe(sns.boxplot, x=\"clusterk_z\", y=\"value\") "
   ]
  }
 ],
 "metadata": {
  "kernelspec": {
   "display_name": "Python 3",
   "language": "python",
   "name": "python3"
  },
  "language_info": {
   "codemirror_mode": {
    "name": "ipython",
    "version": 3
   },
   "file_extension": ".py",
   "mimetype": "text/x-python",
   "name": "python",
   "nbconvert_exporter": "python",
   "pygments_lexer": "ipython3",
   "version": "3.8.5"
  }
 },
 "nbformat": 4,
 "nbformat_minor": 4
}
