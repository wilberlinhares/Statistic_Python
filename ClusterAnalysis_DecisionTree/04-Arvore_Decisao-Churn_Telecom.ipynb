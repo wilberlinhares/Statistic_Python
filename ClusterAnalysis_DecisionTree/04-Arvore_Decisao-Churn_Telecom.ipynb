{
 "cells": [
  {
   "cell_type": "code",
   "execution_count": null,
   "metadata": {},
   "outputs": [],
   "source": [
    "# pip install CHAID"
   ]
  },
  {
   "cell_type": "code",
   "execution_count": null,
   "metadata": {},
   "outputs": [],
   "source": [
    "from CHAID import Tree\n",
    "import numpy as np\n",
    "import pandas as pd\n",
    "import seaborn as sns\n",
    "import matplotlib.pyplot as plt\n",
    "%matplotlib inline"
   ]
  },
  {
   "cell_type": "code",
   "execution_count": null,
   "metadata": {},
   "outputs": [],
   "source": [
    "# Leitura dos dados\n",
    "telefonia = pd.read_table(\"C:/_Ayu/0-Fia/_2020/TURMAS/EA_EAD_ago20/\\Python/Aula2/Telefonia_AD.txt\")\n",
    "telefonia.head()"
   ]
  },
  {
   "cell_type": "code",
   "execution_count": null,
   "metadata": {},
   "outputs": [],
   "source": [
    "telefonia.dtypes"
   ]
  },
  {
   "cell_type": "code",
   "execution_count": null,
   "metadata": {},
   "outputs": [],
   "source": [
    "telefonia.shape"
   ]
  },
  {
   "cell_type": "code",
   "execution_count": null,
   "metadata": {},
   "outputs": [],
   "source": [
    "telefonia.describe().transpose()"
   ]
  },
  {
   "cell_type": "code",
   "execution_count": null,
   "metadata": {},
   "outputs": [],
   "source": [
    "# Verificando quantidade de missings\n",
    "telefonia.isnull().sum()"
   ]
  },
  {
   "cell_type": "code",
   "execution_count": null,
   "metadata": {},
   "outputs": [],
   "source": [
    "# Tratamento da variável Minutos_realizados_T0\n",
    "telefonia.Minutos_realizados_T0 = telefonia.Minutos_realizados_T0.fillna(0)"
   ]
  },
  {
   "cell_type": "code",
   "execution_count": null,
   "metadata": {},
   "outputs": [],
   "source": [
    "# Como a variável explicativa também deve ser categórica, \n",
    "# vamos segmentar a Idade em quartil\n",
    "telefonia['Minutos_realizados_T0_q'] = pd.qcut(telefonia.Minutos_realizados_T0, 4)\n",
    "telefonia['Tempo_casa_q'] = pd.qcut(telefonia.Tempo_casa, 4)\n",
    "telefonia['Qtd_retencao_6meses_q'] = pd.qcut(telefonia.Qtd_retencao_6meses, 4, duplicates='drop')\n",
    "telefonia['Qtd_prod_q'] = pd.qcut(telefonia.Qtd_prod, 4, duplicates='drop')"
   ]
  },
  {
   "cell_type": "code",
   "execution_count": null,
   "metadata": {},
   "outputs": [],
   "source": [
    "# Tabela Bidimensional: covariável x resposta\n",
    "minutos_tab = pd.crosstab(telefonia[\"Minutos_realizados_T0_q\"],telefonia[\"resposta\"],margins=True)\n",
    "minutos_tab"
   ]
  },
  {
   "cell_type": "code",
   "execution_count": null,
   "metadata": {},
   "outputs": [],
   "source": [
    "tempo_casa_tab = pd.crosstab(telefonia[\"Tempo_casa_q\"],telefonia[\"resposta\"],margins=True)\n",
    "tempo_casa_tab"
   ]
  },
  {
   "cell_type": "code",
   "execution_count": null,
   "metadata": {},
   "outputs": [],
   "source": [
    "qtd_retencao_tab = pd.crosstab(telefonia[\"Qtd_retencao_6meses_q\"],telefonia[\"resposta\"],margins=True)\n",
    "qtd_retencao_tab"
   ]
  },
  {
   "cell_type": "code",
   "execution_count": null,
   "metadata": {},
   "outputs": [],
   "source": [
    "qtd_prod_tab = pd.crosstab(telefonia[\"Qtd_prod_q\"],telefonia[\"resposta\"],margins=True)\n",
    "qtd_prod_tab"
   ]
  },
  {
   "cell_type": "markdown",
   "metadata": {},
   "source": [
    "## Modelo - Árvore de Decisão"
   ]
  },
  {
   "cell_type": "code",
   "execution_count": null,
   "metadata": {},
   "outputs": [],
   "source": [
    "# Transformando a variável resposta em categórica\n",
    "telefonia['resposta_cat'] = telefonia.resposta.astype('category')"
   ]
  },
  {
   "cell_type": "code",
   "execution_count": null,
   "metadata": {},
   "outputs": [],
   "source": [
    "var_explicativas = telefonia[[\n",
    "    'Minutos_realizados_T0_q',\n",
    "    'Tempo_casa_q', \n",
    "    'Qtd_retencao_6meses_q',\n",
    "    'Qtd_prod_q']]\n",
    "\n",
    "var_resposta = telefonia['resposta_cat']"
   ]
  },
  {
   "cell_type": "code",
   "execution_count": null,
   "metadata": {},
   "outputs": [],
   "source": [
    "# Constrói o modelo de árvore\n",
    "modelo = Tree.from_numpy(\n",
    "    var_explicativas.to_numpy(), \n",
    "    var_resposta.to_numpy(), \n",
    "    split_titles=['Minutos_realizados_T0_q',\n",
    "                  'Tempo_casa_q', \n",
    "                  'Qtd_retencao_6meses_q',\n",
    "                  'Qtd_prod_q'], \n",
    "    min_child_node_size=2)"
   ]
  },
  {
   "cell_type": "code",
   "execution_count": null,
   "metadata": {},
   "outputs": [],
   "source": [
    "modelo.print_tree()"
   ]
  },
  {
   "cell_type": "code",
   "execution_count": null,
   "metadata": {},
   "outputs": [],
   "source": [
    "modelo.classification_rules()"
   ]
  },
  {
   "cell_type": "code",
   "execution_count": null,
   "metadata": {},
   "outputs": [],
   "source": [
    "# Salvando na base os nós\n",
    "telefonia['node'] = modelo.node_predictions()"
   ]
  },
  {
   "cell_type": "code",
   "execution_count": null,
   "metadata": {},
   "outputs": [],
   "source": [
    "# Salvando a taxa de resposta por nó\n",
    "probs = telefonia.groupby(['node']).agg({'resposta':'mean'}).reset_index()"
   ]
  },
  {
   "cell_type": "code",
   "execution_count": null,
   "metadata": {},
   "outputs": [],
   "source": [
    "# Marcando se o nó é propenso\n",
    "probs['propenso'] = np.where(probs['resposta'] >= telefonia['resposta'].mean(), 1, 0)"
   ]
  },
  {
   "cell_type": "code",
   "execution_count": null,
   "metadata": {},
   "outputs": [],
   "source": [
    "probs = probs.rename(columns={\"resposta\":\"prob\"})\n",
    "probs"
   ]
  },
  {
   "cell_type": "code",
   "execution_count": null,
   "metadata": {},
   "outputs": [],
   "source": [
    "telefonia = telefonia.merge(probs, how='left', on='node')"
   ]
  },
  {
   "cell_type": "code",
   "execution_count": null,
   "metadata": {},
   "outputs": [],
   "source": [
    "tabela_desempenho = pd.crosstab(telefonia['resposta'], telefonia['propenso'])"
   ]
  },
  {
   "cell_type": "code",
   "execution_count": null,
   "metadata": {},
   "outputs": [],
   "source": [
    "tabela_desempenho"
   ]
  },
  {
   "cell_type": "code",
   "execution_count": null,
   "metadata": {},
   "outputs": [],
   "source": [
    "acuracia = (tabela_desempenho[0][0] + tabela_desempenho[1][1])/tabela_desempenho.sum().sum()\n",
    "acuracia"
   ]
  },
  {
   "cell_type": "code",
   "execution_count": null,
   "metadata": {},
   "outputs": [],
   "source": [
    "sensibilidade = (tabela_desempenho[1][1])/(tabela_desempenho[1][1] + tabela_desempenho[0][1])\n",
    "sensibilidade"
   ]
  },
  {
   "cell_type": "code",
   "execution_count": null,
   "metadata": {},
   "outputs": [],
   "source": [
    "especificidade = (tabela_desempenho[0][0])/(tabela_desempenho[0][0] + tabela_desempenho[1][0])\n",
    "especificidade"
   ]
  }
 ],
 "metadata": {
  "kernelspec": {
   "display_name": "Python 3",
   "language": "python",
   "name": "python3"
  },
  "language_info": {
   "codemirror_mode": {
    "name": "ipython",
    "version": 3
   },
   "file_extension": ".py",
   "mimetype": "text/x-python",
   "name": "python",
   "nbconvert_exporter": "python",
   "pygments_lexer": "ipython3",
   "version": "3.7.6"
  }
 },
 "nbformat": 4,
 "nbformat_minor": 4
}
