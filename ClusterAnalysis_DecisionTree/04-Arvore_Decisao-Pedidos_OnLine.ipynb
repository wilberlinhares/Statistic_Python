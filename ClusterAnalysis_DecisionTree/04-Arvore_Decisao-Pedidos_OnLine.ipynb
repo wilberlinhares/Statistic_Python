{
 "cells": [
  {
   "cell_type": "code",
   "execution_count": null,
   "metadata": {},
   "outputs": [],
   "source": [
    "#pip install CHAID"
   ]
  },
  {
   "cell_type": "code",
   "execution_count": null,
   "metadata": {},
   "outputs": [],
   "source": [
    "from CHAID import Tree\n",
    "import numpy as np\n",
    "import pandas as pd\n",
    "import seaborn as sns\n",
    "import matplotlib.pyplot as plt\n",
    "%matplotlib inline"
   ]
  },
  {
   "cell_type": "code",
   "execution_count": null,
   "metadata": {},
   "outputs": [],
   "source": [
    "# Leitura dos dados\n",
    "pedidos = pd.read_table(\"C:/_Ayu/0-Fia/_2020/TURMAS/EA_EAD_ago20/Python/Aula2/PedidoOnLine.txt\")\n",
    "pedidos.head()"
   ]
  },
  {
   "cell_type": "code",
   "execution_count": null,
   "metadata": {},
   "outputs": [],
   "source": [
    "pedidos.dtypes"
   ]
  },
  {
   "cell_type": "code",
   "execution_count": null,
   "metadata": {},
   "outputs": [],
   "source": [
    "pedidos.shape"
   ]
  },
  {
   "cell_type": "code",
   "execution_count": null,
   "metadata": {},
   "outputs": [],
   "source": [
    "pedidos.describe().transpose()"
   ]
  },
  {
   "cell_type": "code",
   "execution_count": null,
   "metadata": {},
   "outputs": [],
   "source": [
    "# Verificando quantidade de missings\n",
    "pedidos.isnull().sum()"
   ]
  },
  {
   "cell_type": "code",
   "execution_count": null,
   "metadata": {},
   "outputs": [],
   "source": [
    "# Como a variável explicativa também deve ser categórica, \n",
    "# vamos segmentar a Idade em quartil\n",
    "pedidos['Idade_q'] = pd.qcut(pedidos.Idade, 4)"
   ]
  },
  {
   "cell_type": "code",
   "execution_count": null,
   "metadata": {},
   "outputs": [],
   "source": [
    "# Tabela Bidimensional: covariável x resposta com normalize = 'index' calculando o percentual, sem esta parte, fica apenas o absoluto\n",
    "Idade_tab = pd.crosstab(pedidos[\"Idade_q\"],pedidos[\"Influenciado_por_nota\"], normalize='index')\n",
    "Idade_tab\n"
   ]
  },
  {
   "cell_type": "code",
   "execution_count": null,
   "metadata": {},
   "outputs": [],
   "source": [
    "Genero_tab = pd.crosstab(pedidos[\"Genero\"],pedidos[\"Influenciado_por_nota\"], normalize='index')\n",
    "Genero_tab"
   ]
  },
  {
   "cell_type": "markdown",
   "metadata": {},
   "source": [
    "## Exercício: Construa a tabela para as demais variáveis"
   ]
  },
  {
   "cell_type": "code",
   "execution_count": null,
   "metadata": {},
   "outputs": [],
   "source": [
    "Estado_civil_tab "
   ]
  },
  {
   "cell_type": "code",
   "execution_count": null,
   "metadata": {},
   "outputs": [],
   "source": [
    "Renda_mensal_tab "
   ]
  },
  {
   "cell_type": "code",
   "execution_count": null,
   "metadata": {},
   "outputs": [],
   "source": [
    "Refeicao_mais_frequente_tab "
   ]
  },
  {
   "cell_type": "code",
   "execution_count": null,
   "metadata": {},
   "outputs": [],
   "source": [
    "Avaliacao_media_anterior_tab "
   ]
  },
  {
   "cell_type": "markdown",
   "metadata": {},
   "source": [
    "## Modelo - Árvore de Decisão"
   ]
  },
  {
   "cell_type": "code",
   "execution_count": null,
   "metadata": {},
   "outputs": [],
   "source": [
    "# Transformando a variável resposta em categórica\n",
    "pedidos['resposta_cat'] = pedidos.Influenciado_por_nota.astype('category')"
   ]
  },
  {
   "cell_type": "code",
   "execution_count": null,
   "metadata": {},
   "outputs": [],
   "source": [
    "var_explicativas = pedidos[[\n",
    "    'Idade_q',\n",
    "    'Genero', \n",
    "    'Estado_civil',\n",
    "    'Renda_mensal',\n",
    "    'Refeicao_mais_frequente',\n",
    "    'Avaliacao_media_anterior']]\n",
    "\n",
    "var_resposta = pedidos['resposta_cat']"
   ]
  },
  {
   "cell_type": "code",
   "execution_count": null,
   "metadata": {},
   "outputs": [],
   "source": [
    "# Constrói o modelo de árvore\n",
    "modelo = Tree.from_numpy(\n",
    "    var_explicativas.to_numpy(), \n",
    "    var_resposta.to_numpy(), \n",
    "    split_titles=['Idade_q',\n",
    "    'Genero', \n",
    "    'Estado_civil',\n",
    "    'Renda_mensal',\n",
    "    'Refeicao_mais_frequente',\n",
    "    'Avaliacao_media_anterior'], \n",
    "    min_child_node_size=2)"
   ]
  },
  {
   "cell_type": "code",
   "execution_count": null,
   "metadata": {},
   "outputs": [],
   "source": [
    "modelo.print_tree()"
   ]
  },
  {
   "cell_type": "code",
   "execution_count": null,
   "metadata": {},
   "outputs": [],
   "source": [
    "modelo.classification_rules()"
   ]
  },
  {
   "cell_type": "code",
   "execution_count": null,
   "metadata": {},
   "outputs": [],
   "source": [
    "# Salvando na base os nós\n",
    "pedidos['node'] = modelo.node_predictions()\n",
    "pedidos"
   ]
  },
  {
   "cell_type": "code",
   "execution_count": null,
   "metadata": {},
   "outputs": [],
   "source": [
    "# Salvando a taxa de resposta por nó\n",
    "probs = pedidos.groupby(['node']).agg({'Influenciado_por_nota':'mean'}).reset_index()\n",
    "probs"
   ]
  },
  {
   "cell_type": "code",
   "execution_count": null,
   "metadata": {},
   "outputs": [],
   "source": [
    "# Marcando se o nó é propenso\n",
    "probs['propenso'] = np.where(probs['Influenciado_por_nota'] >= pedidos['Influenciado_por_nota'].mean(), 1, 0)"
   ]
  },
  {
   "cell_type": "code",
   "execution_count": null,
   "metadata": {},
   "outputs": [],
   "source": [
    "probs = probs.rename(columns={\"Influenciado_por_nota\":\"prob\"})\n",
    "probs"
   ]
  },
  {
   "cell_type": "code",
   "execution_count": null,
   "metadata": {},
   "outputs": [],
   "source": [
    "pedidos = pedidos.merge(probs, how='left', on='node')\n",
    "pedidos"
   ]
  },
  {
   "cell_type": "code",
   "execution_count": null,
   "metadata": {},
   "outputs": [],
   "source": [
    "tabela_desempenho = pd.crosstab(pedidos['Influenciado_por_nota'],pedidos['propenso'])"
   ]
  },
  {
   "cell_type": "code",
   "execution_count": null,
   "metadata": {},
   "outputs": [],
   "source": [
    "tabela_desempenho"
   ]
  },
  {
   "cell_type": "code",
   "execution_count": null,
   "metadata": {},
   "outputs": [],
   "source": [
    "acuracia = (tabela_desempenho[0][0] + tabela_desempenho[1][1])/tabela_desempenho.sum().sum()\n",
    "acuracia"
   ]
  },
  {
   "cell_type": "code",
   "execution_count": null,
   "metadata": {},
   "outputs": [],
   "source": [
    "sensibilidade = (tabela_desempenho[1][1])/(tabela_desempenho[1][1] + tabela_desempenho[0][1])\n",
    "sensibilidade"
   ]
  },
  {
   "cell_type": "code",
   "execution_count": null,
   "metadata": {},
   "outputs": [],
   "source": [
    "#Calcule a Especificidade\n",
    "especificidade "
   ]
  }
 ],
 "metadata": {
  "kernelspec": {
   "display_name": "Python 3",
   "language": "python",
   "name": "python3"
  },
  "language_info": {
   "codemirror_mode": {
    "name": "ipython",
    "version": 3
   },
   "file_extension": ".py",
   "mimetype": "text/x-python",
   "name": "python",
   "nbconvert_exporter": "python",
   "pygments_lexer": "ipython3",
   "version": "3.7.6"
  }
 },
 "nbformat": 4,
 "nbformat_minor": 4
}
